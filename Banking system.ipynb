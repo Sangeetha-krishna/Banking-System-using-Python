{
 "cells": [
  {
   "cell_type": "code",
   "execution_count": null,
   "id": "52548c65-797b-4dd3-b006-0c8924ff9a83",
   "metadata": {},
   "outputs": [
    {
     "name": "stdout",
     "output_type": "stream",
     "text": [
      "\n",
      "Welcome to the Python Bank System\n",
      "1. Create Account\n",
      "2. Login\n",
      "3. Exit\n"
     ]
    },
    {
     "name": "stdin",
     "output_type": "stream",
     "text": [
      "Choose an option:  1\n",
      "Enter account holder's name:  Sangeetha\n",
      "Enter account number:  1234567\n",
      "Enter initial deposit: ₹ 10000\n"
     ]
    },
    {
     "name": "stdout",
     "output_type": "stream",
     "text": [
      "Account created successfully for Sangeetha!\n",
      "\n",
      "Welcome to the Python Bank System\n",
      "1. Create Account\n",
      "2. Login\n",
      "3. Exit\n"
     ]
    },
    {
     "name": "stdin",
     "output_type": "stream",
     "text": [
      "Choose an option:  2\n",
      "Enter account number:  1234567\n"
     ]
    },
    {
     "name": "stdout",
     "output_type": "stream",
     "text": [
      "\n",
      "1. Deposit Money\n",
      "2. Withdraw Money\n",
      "3. Display Balance\n",
      "4. Transfer Money\n",
      "5. View Transaction History\n",
      "6. Logout\n"
     ]
    },
    {
     "name": "stdin",
     "output_type": "stream",
     "text": [
      "Choose an option:  1\n",
      "Enter amount to deposit: ₹ 12000\n"
     ]
    },
    {
     "name": "stdout",
     "output_type": "stream",
     "text": [
      "₹12000.0 deposited successfully!\n",
      "\n",
      "1. Deposit Money\n",
      "2. Withdraw Money\n",
      "3. Display Balance\n",
      "4. Transfer Money\n",
      "5. View Transaction History\n",
      "6. Logout\n"
     ]
    },
    {
     "name": "stdin",
     "output_type": "stream",
     "text": [
      "Choose an option:  2\n",
      "Enter amount to withdraw: ₹ 120\n"
     ]
    },
    {
     "name": "stdout",
     "output_type": "stream",
     "text": [
      "₹120.0 withdrawn successfully!\n",
      "\n",
      "1. Deposit Money\n",
      "2. Withdraw Money\n",
      "3. Display Balance\n",
      "4. Transfer Money\n",
      "5. View Transaction History\n",
      "6. Logout\n"
     ]
    },
    {
     "name": "stdin",
     "output_type": "stream",
     "text": [
      "Choose an option:  3\n"
     ]
    },
    {
     "name": "stdout",
     "output_type": "stream",
     "text": [
      "Account balance: ₹21880.0\n",
      "\n",
      "1. Deposit Money\n",
      "2. Withdraw Money\n",
      "3. Display Balance\n",
      "4. Transfer Money\n",
      "5. View Transaction History\n",
      "6. Logout\n"
     ]
    },
    {
     "name": "stdin",
     "output_type": "stream",
     "text": [
      "Choose an option:  4\n",
      "Enter receiver's account number:  987654\n"
     ]
    },
    {
     "name": "stdout",
     "output_type": "stream",
     "text": [
      "Receiver account not found!\n",
      "\n",
      "1. Deposit Money\n",
      "2. Withdraw Money\n",
      "3. Display Balance\n",
      "4. Transfer Money\n",
      "5. View Transaction History\n",
      "6. Logout\n"
     ]
    },
    {
     "name": "stdin",
     "output_type": "stream",
     "text": [
      "Choose an option:  4\n",
      "Enter receiver's account number:  987654\n"
     ]
    },
    {
     "name": "stdout",
     "output_type": "stream",
     "text": [
      "Receiver account not found!\n",
      "\n",
      "1. Deposit Money\n",
      "2. Withdraw Money\n",
      "3. Display Balance\n",
      "4. Transfer Money\n",
      "5. View Transaction History\n",
      "6. Logout\n"
     ]
    },
    {
     "name": "stdin",
     "output_type": "stream",
     "text": [
      "Choose an option:  5\n"
     ]
    },
    {
     "name": "stdout",
     "output_type": "stream",
     "text": [
      "\n",
      "Transaction History:\n",
      "Deposited ₹12000.0\n",
      "Withdrew ₹120.0\n",
      "\n",
      "1. Deposit Money\n",
      "2. Withdraw Money\n",
      "3. Display Balance\n",
      "4. Transfer Money\n",
      "5. View Transaction History\n",
      "6. Logout\n"
     ]
    },
    {
     "name": "stdin",
     "output_type": "stream",
     "text": [
      "Choose an option:  6\n"
     ]
    },
    {
     "name": "stdout",
     "output_type": "stream",
     "text": [
      "Logged out!\n",
      "\n",
      "Welcome to the Python Bank System\n",
      "1. Create Account\n",
      "2. Login\n",
      "3. Exit\n"
     ]
    },
    {
     "name": "stdin",
     "output_type": "stream",
     "text": [
      "Choose an option:  1\n",
      "Enter account holder's name:  Sreelekshmi\n",
      "Enter account number:  123456789\n",
      "Enter initial deposit: ₹ 150000\n"
     ]
    },
    {
     "name": "stdout",
     "output_type": "stream",
     "text": [
      "Account created successfully for Sreelekshmi!\n",
      "\n",
      "Welcome to the Python Bank System\n",
      "1. Create Account\n",
      "2. Login\n",
      "3. Exit\n"
     ]
    },
    {
     "name": "stdin",
     "output_type": "stream",
     "text": [
      "Choose an option:  2\n",
      "Enter account number:  123456789\n"
     ]
    },
    {
     "name": "stdout",
     "output_type": "stream",
     "text": [
      "\n",
      "1. Deposit Money\n",
      "2. Withdraw Money\n",
      "3. Display Balance\n",
      "4. Transfer Money\n",
      "5. View Transaction History\n",
      "6. Logout\n"
     ]
    },
    {
     "name": "stdin",
     "output_type": "stream",
     "text": [
      "Choose an option:  2\n",
      "Enter amount to withdraw: ₹ 1000\n"
     ]
    },
    {
     "name": "stdout",
     "output_type": "stream",
     "text": [
      "₹1000.0 withdrawn successfully!\n",
      "\n",
      "1. Deposit Money\n",
      "2. Withdraw Money\n",
      "3. Display Balance\n",
      "4. Transfer Money\n",
      "5. View Transaction History\n",
      "6. Logout\n"
     ]
    },
    {
     "name": "stdin",
     "output_type": "stream",
     "text": [
      "Choose an option:  3\n"
     ]
    },
    {
     "name": "stdout",
     "output_type": "stream",
     "text": [
      "Account balance: ₹149000.0\n",
      "\n",
      "1. Deposit Money\n",
      "2. Withdraw Money\n",
      "3. Display Balance\n",
      "4. Transfer Money\n",
      "5. View Transaction History\n",
      "6. Logout\n"
     ]
    }
   ],
   "source": [
    "class BankAccount:\n",
    "    def __init__(self, Account_number, Name, Balance=0):\n",
    "        self.Account_number = Account_number\n",
    "        self.Name = Name\n",
    "        self.Balance = Balance\n",
    "        self.Transaction_History = []\n",
    "\n",
    "    def deposit(self, amount):\n",
    "        if amount > 0:\n",
    "            self.Balance += amount\n",
    "            print(f\"₹{amount} deposited successfully!\")\n",
    "            self.Transaction_History.append(f\"Deposited ₹{amount}\")\n",
    "        else:\n",
    "            print(\"Invalid amount!\")\n",
    "\n",
    "    def withdraw(self, amount):\n",
    "        if amount > 0 and amount <= self.Balance:\n",
    "            self.Balance -= amount\n",
    "            print(f\"₹{amount} withdrawn successfully!\")\n",
    "            self.Transaction_History.append(f\"Withdrew ₹{amount}\")\n",
    "        else:\n",
    "            print(\"Insufficient balance!\")\n",
    "\n",
    "    def display_balance(self):\n",
    "        print(f\"Account balance: ₹{self.Balance}\")\n",
    "\n",
    "    def display_transaction_history(self):\n",
    "        print(\"\\nTransaction History:\")\n",
    "        if self.Transaction_History:\n",
    "            for transaction in self.Transaction_History:\n",
    "                print(transaction)\n",
    "        else:\n",
    "            print(\"No transactions available.\")\n",
    "\n",
    "    def transfer(self, receiver_account, amount):\n",
    "        if amount > 0 and amount <= self.Balance:\n",
    "            self.Balance -= amount\n",
    "            receiver_account.balance += amount\n",
    "            print(f\"₹{amount} transferred successfully to {receiver_account.name} (Account: {receiver_account.Account_number})!\")\n",
    "            self.Transaction_History.append(f\"Transferred ₹{amount} to {receiver_account.name}\")\n",
    "            receiver_account.transaction_history.append(f\"Received ₹{amount} from {self.name}\")\n",
    "        else:\n",
    "            print(\"Insufficient balance!\")\n",
    "\n",
    "# Authentication of bank account\n",
    "# Account management\n",
    "class BankingSystem:\n",
    "    def __init__(self):\n",
    "        self.accounts = {}\n",
    "\n",
    "    def create_account(self, account_number, name, initial_deposit=0):\n",
    "        if account_number not in self.accounts:\n",
    "            new_account = BankAccount(account_number, name, initial_deposit)\n",
    "            self.accounts[account_number] = new_account\n",
    "            print(f\"Account created successfully for {name}!\")\n",
    "        else:\n",
    "            print(\"Account number already exists!\")\n",
    "\n",
    "    def login(self, account_number):\n",
    "        if account_number in self.accounts:\n",
    "            return self.accounts[account_number]\n",
    "        else:\n",
    "            print(\"Account not found!\")\n",
    "            return None\n",
    "\n",
    "def main():\n",
    "    banking_system = BankingSystem()\n",
    "\n",
    "    while True:\n",
    "        print(\"\\nWelcome to the Python Bank System\")\n",
    "        print(\"1. Create Account\")\n",
    "        print(\"2. Login\")\n",
    "        print(\"3. Exit\")\n",
    "        choice = input(\"Choose an option: \")\n",
    "\n",
    "        if choice == \"1\":\n",
    "            name = input(\"Enter account holder's name: \")\n",
    "            account_number = input(\"Enter account number: \")\n",
    "            initial_deposit = float(input(\"Enter initial deposit: ₹\"))\n",
    "            banking_system.create_account(account_number, name, initial_deposit)\n",
    "\n",
    "        elif choice == \"2\":\n",
    "            account_number = input(\"Enter account number: \")\n",
    "            account = banking_system.login(account_number)\n",
    "            if account:\n",
    "                while True:\n",
    "                    print(\"\\n1. Deposit Money\")\n",
    "                    print(\"2. Withdraw Money\")\n",
    "                    print(\"3. Display Balance\")\n",
    "                    print(\"4. Transfer Money\")\n",
    "                    print(\"5. View Transaction History\")\n",
    "                    print(\"6. Logout\")\n",
    "                    option = input(\"Choose an option: \")\n",
    "\n",
    "                    if option == \"1\":\n",
    "                        amount = float(input(\"Enter amount to deposit: ₹\"))\n",
    "                        account.deposit(amount)\n",
    "\n",
    "                    elif option == \"2\":\n",
    "                        amount = float(input(\"Enter amount to withdraw: ₹\"))\n",
    "                        account.withdraw(amount)\n",
    "\n",
    "                    elif option == \"3\":\n",
    "                        account.display_balance()\n",
    "\n",
    "                    elif option == \"4\":\n",
    "                        receiver_account_number = input(\"Enter receiver's account number: \")\n",
    "                        if receiver_account_number in banking_system.accounts:\n",
    "                            receiver_account = banking_system.accounts[receiver_account_number]\n",
    "                            amount = float(input(\"Enter amount to transfer: ₹\"))\n",
    "                            account.transfer(receiver_account, amount)\n",
    "                        else:\n",
    "                            print(\"Receiver account not found!\")\n",
    "\n",
    "                    elif option == \"5\":\n",
    "                        account.display_transaction_history()\n",
    "\n",
    "                    elif option == \"6\":\n",
    "                        print(\"Logged out!\")\n",
    "                        break\n",
    "\n",
    "                    else:\n",
    "                        print(\"Invalid option!\")\n",
    "\n",
    "        elif choice == \"3\":\n",
    "            print(\"Thank you for using Python Bank. Goodbye!\")\n",
    "            break\n",
    "\n",
    "        else:\n",
    "            print(\"Invalid choice!\")\n",
    "\n",
    "if __name__ == \"__main__\":\n",
    "    main()1\n",
    "    "
   ]
  },
  {
   "cell_type": "code",
   "execution_count": null,
   "id": "4ba564e4-56ee-4950-9485-b416f653ea18",
   "metadata": {},
   "outputs": [],
   "source": []
  }
 ],
 "metadata": {
  "kernelspec": {
   "display_name": "Python 3 (ipykernel)",
   "language": "python",
   "name": "python3"
  },
  "language_info": {
   "codemirror_mode": {
    "name": "ipython",
    "version": 3
   },
   "file_extension": ".py",
   "mimetype": "text/x-python",
   "name": "python",
   "nbconvert_exporter": "python",
   "pygments_lexer": "ipython3",
   "version": "3.12.4"
  }
 },
 "nbformat": 4,
 "nbformat_minor": 5
}
